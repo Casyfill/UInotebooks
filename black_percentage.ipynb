{
 "cells": [
  {
   "cell_type": "markdown",
   "metadata": {},
   "source": [
    "##utility NB for % of black people in manhattan vs brooklyn , UI class 4\n",
    "##FBB August 2015"
   ]
  },
  {
   "cell_type": "code",
   "execution_count": 2,
   "metadata": {
    "collapsed": false
   },
   "outputs": [
    {
     "name": "stdout",
     "output_type": "stream",
     "text": [
      "Populating the interactive namespace from numpy and matplotlib\n"
     ]
    },
    {
     "name": "stderr",
     "output_type": "stream",
     "text": [
      "/Users/fbianco/Library/Enthought/Canopy_64bit/User/lib/python2.7/site-packages/matplotlib/__init__.py:855: UserWarning: svg.embed_char_paths is deprecated and replaced with svg.fonttype; please use the latter.\n",
      "  warnings.warn(self.msg_depr % (key, alt_key))\n"
     ]
    }
   ],
   "source": [
    "import os\n",
    "import pylab as pl\n",
    "import numpy as np\n",
    "import json\n",
    "s = json.load( open(\"fbb_matplotlibrc.json\") )\n",
    "pl.rcParams.update(s)\n",
    "\n",
    "%pylab inline"
   ]
  },
  {
   "cell_type": "code",
   "execution_count": 3,
   "metadata": {
    "collapsed": false
   },
   "outputs": [],
   "source": [
    "import pandas as pd\n",
    "d=pd.read_csv(\"Demographic_Statistics_By_Zip_Code.csv\", header=0)"
   ]
  },
  {
   "cell_type": "code",
   "execution_count": 4,
   "metadata": {
    "collapsed": false
   },
   "outputs": [
    {
     "name": "stdout",
     "output_type": "stream",
     "text": [
      "Index([u'JURISDICTION NAME', u'COUNT PARTICIPANTS', u'COUNT FEMALE',\n",
      "       u'PERCENT FEMALE', u'COUNT MALE', u'PERCENT MALE',\n",
      "       u'COUNT GENDER UNKNOWN', u'PERCENT GENDER UNKNOWN',\n",
      "       u'COUNT GENDER TOTAL', u'PERCENT GENDER TOTAL',\n",
      "       u'COUNT PACIFIC ISLANDER', u'PERCENT PACIFIC ISLANDER',\n",
      "       u'COUNT HISPANIC LATINO', u'PERCENT HISPANIC LATINO',\n",
      "       u'COUNT AMERICAN INDIAN', u'PERCENT AMERICAN INDIAN',\n",
      "       u'COUNT ASIAN NON HISPANIC', u'PERCENT ASIAN NON HISPANIC',\n",
      "       u'COUNT WHITE NON HISPANIC', u'PERCENT WHITE NON HISPANIC',\n",
      "       u'COUNT BLACK NON HISPANIC', u'PERCENT BLACK NON HISPANIC',\n",
      "       u'COUNT OTHER ETHNICITY', u'PERCENT OTHER ETHNICITY',\n",
      "       u'COUNT ETHNICITY UNKNOWN', u'PERCENT ETHNICITY UNKNOWN',\n",
      "       u'COUNT ETHNICITY TOTAL', u'PERCENT ETHNICITY TOTAL',\n",
      "       u'COUNT PERMANENT RESIDENT ALIEN', u'PERCENT PERMANENT RESIDENT ALIEN',\n",
      "       u'COUNT US CITIZEN', u'PERCENT US CITIZEN',\n",
      "       u'COUNT OTHER CITIZEN STATUS', u'PERCENT OTHER CITIZEN STATUS',\n",
      "       u'COUNT CITIZEN STATUS UNKNOWN', u'PERCENT CITIZEN STATUS UNKNOWN',\n",
      "       u'COUNT CITIZEN STATUS TOTAL', u'PERCENT CITIZEN STATUS TOTAL',\n",
      "       u'COUNT RECEIVES PUBLIC ASSISTANCE',\n",
      "       u'PERCENT RECEIVES PUBLIC ASSISTANCE',\n",
      "       u'COUNT NRECEIVES PUBLIC ASSISTANCE',\n",
      "       u'PERCENT NRECEIVES PUBLIC ASSISTANCE',\n",
      "       u'COUNT PUBLIC ASSISTANCE UNKNOWN',\n",
      "       u'PERCENT PUBLIC ASSISTANCE UNKNOWN', u'COUNT PUBLIC ASSISTANCE TOTAL',\n",
      "       u'PERCENT PUBLIC ASSISTANCE TOTAL'],\n",
      "      dtype='object')\n",
      "2     0.00\n",
      "4     0.50\n",
      "5     0.50\n",
      "6     0.00\n",
      "7     0.00\n",
      "9     0.33\n",
      "11    0.00\n",
      "13    0.47\n",
      "15    0.00\n",
      "19    0.00\n",
      "20    0.43\n",
      "21    0.00\n",
      "22    0.41\n",
      "24    0.57\n",
      "26    0.75\n",
      "29    0.15\n",
      "33    0.50\n",
      "35    0.31\n",
      "37    0.20\n",
      "Name: PERCENT BLACK NON HISPANIC, dtype: float64 106    0.00\n",
      "107    0.00\n",
      "111    0.00\n",
      "112    0.03\n",
      "113    0.70\n",
      "114    0.00\n",
      "115    0.10\n",
      "119    0.05\n",
      "120    0.00\n",
      "121    0.00\n",
      "124    0.01\n",
      "125    0.65\n",
      "126    0.00\n",
      "127    0.40\n",
      "129    0.04\n",
      "130    0.01\n",
      "133    0.64\n",
      "134    0.17\n",
      "135    0.04\n",
      "136    0.71\n",
      "Name: PERCENT BLACK NON HISPANIC, dtype: float64\n",
      "2     0.00\n",
      "4     0.00\n",
      "5     0.00\n",
      "6     0.00\n",
      "7     0.00\n",
      "9     0.33\n",
      "11    0.00\n",
      "13    0.00\n",
      "15    0.00\n",
      "19    0.00\n",
      "20    0.00\n",
      "21    0.00\n",
      "22    0.04\n",
      "24    0.14\n",
      "26    0.05\n",
      "29    0.08\n",
      "33    0.00\n",
      "35    0.00\n",
      "37    0.00\n",
      "Name: PERCENT OTHER ETHNICITY, dtype: float64 106    0.20\n",
      "107    0.00\n",
      "111    0.08\n",
      "112    0.06\n",
      "113    0.10\n",
      "114    0.16\n",
      "115    0.00\n",
      "119    0.05\n",
      "120    0.03\n",
      "121    0.13\n",
      "124    0.05\n",
      "125    0.09\n",
      "126    0.00\n",
      "127    0.00\n",
      "129    0.06\n",
      "130    0.07\n",
      "133    0.07\n",
      "134    0.07\n",
      "135    0.02\n",
      "136    0.00\n",
      "Name: PERCENT OTHER ETHNICITY, dtype: float64\n"
     ]
    },
    {
     "data": {
      "text/plain": [
       "([<matplotlib.axis.YTick at 0x10ce9c690>,\n",
       "  <matplotlib.axis.YTick at 0x10ce91f50>],\n",
       " <a list of 2 Text yticklabel objects>)"
      ]
     },
     "execution_count": 4,
     "metadata": {},
     "output_type": "execute_result"
    },
    {
     "data": {
      "image/png": "[encoded data removed]",
      "text/plain": [
       "<matplotlib.figure.Figure at 0x10ce3ff10>"
      ]
     },
     "metadata": {},
     "output_type": "display_data"
    },
    {
     "data": {
      "image/png": "[encoded data removed]",
      "text/plain": [
       "<matplotlib.figure.Figure at 0x10ce5b150>"
      ]
     },
     "metadata": {},
     "output_type": "display_data"
    }
   ],
   "source": [
    "print d.columns\n",
    "fig=pl.figure(figsize=(10,10))\n",
    "ax=fig.add_subplot(111)\n",
    "indxM=(d['JURISDICTION NAME']>10002) & (d['JURISDICTION NAME']<10045) & (d['PERCENT ETHNICITY TOTAL']>0)\n",
    "indxB=(d['JURISDICTION NAME']>11204) & (d['JURISDICTION NAME']<11245) & (d['PERCENT ETHNICITY TOTAL']>0)\n",
    "dM=d[indxM]['PERCENT BLACK NON HISPANIC']\n",
    "dB=d[indxB]['PERCENT BLACK NON HISPANIC'] \n",
    "print dM,dB\n",
    "#pl.hist(np.array(dM),bins=10)\n",
    "#pl.hist(np.array(dB),bins=10)\n",
    "ax.boxplot([dM,dB],0,'o',0)\n",
    "pl.title('Black Polulation %', fontsize=20)\n",
    "pl.yticks([1,2],['Manhattan','Brooklyn'], fontsize=15)\n",
    "pl.savefig(os.getenv('PUI15PLOTS')+'/population_boxplot.png')\n",
    "\n",
    "fig=pl.figure(figsize=(10,10))\n",
    "ax=fig.add_subplot(111)\n",
    "dM=d[indxM]['PERCENT OTHER ETHNICITY']\n",
    "dB=d[indxB]['PERCENT OTHER ETHNICITY'] \n",
    "print dM,dB\n",
    "#pl.hist(np.array(dM),bins=10)\n",
    "#pl.hist(np.array(dB),bins=10)\n",
    "ax.boxplot([dM,dB],0,'o',0)\n",
    "pl.title('Unknown Ethnicity Polulation %', fontsize=20)\n",
    "pl.yticks([1,2],['Manhattan','Brooklyn'], fontsize=15)\n",
    "\n"
   ]
  },
  {
   "cell_type": "code",
   "execution_count": 5,
   "metadata": {
    "collapsed": false
   },
   "outputs": [
    {
     "name": "stdout",
     "output_type": "stream",
     "text": [
      "M 0.034 0.081\n",
      "B 0.062 0.055\n"
     ]
    }
   ],
   "source": [
    "print \"M %.3f %.3f\"%(dM.mean(),dM.std())\n",
    "print \"B %.3f %.3f\"%(dB.mean(),dB.std())"
   ]
  },
  {
   "cell_type": "markdown",
   "metadata": {
    "collapsed": true
   },
   "source": [
    "##NOTE: that is NOT the right number according to the census! but the data i have is the data i have..."
   ]
  }
 ],
 "metadata": {
  "kernelspec": {
   "display_name": "Python 2",
   "language": "python",
   "name": "python2"
  },
  "language_info": {
   "codemirror_mode": {
    "name": "ipython",
    "version": 2
   },
   "file_extension": ".py",
   "mimetype": "text/x-python",
   "name": "python",
   "nbconvert_exporter": "python",
   "pygments_lexer": "ipython2",
   "version": "2.7.3"
  }
 },
 "nbformat": 4,
 "nbformat_minor": 0
}
