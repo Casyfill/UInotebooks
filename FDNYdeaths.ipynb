{
 "cells": [
  {
   "cell_type": "code",
   "execution_count": 5,
   "metadata": {
    "collapsed": false
   },
   "outputs": [
    {
     "name": "stdout",
     "output_type": "stream",
     "text": [
      "Populating the interactive namespace from numpy and matplotlib\n"
     ]
    },
    {
     "data": {
      "text/html": [
       "<div style=\"max-height:1000px;max-width:1500px;overflow:auto;\">\n",
       "<table border=\"1\" class=\"dataframe\">\n",
       "  <thead>\n",
       "    <tr style=\"text-align: right;\">\n",
       "      <th></th>\n",
       "      <th>Rank</th>\n",
       "      <th>Name</th>\n",
       "      <th>Unit</th>\n",
       "      <th>Date</th>\n",
       "    </tr>\n",
       "  </thead>\n",
       "  <tbody>\n",
       "    <tr>\n",
       "      <th>count</th>\n",
       "      <td>1169</td>\n",
       "      <td>1169</td>\n",
       "      <td>1169</td>\n",
       "      <td>1169</td>\n",
       "    </tr>\n",
       "    <tr>\n",
       "      <th>unique</th>\n",
       "      <td>26</td>\n",
       "      <td>1165</td>\n",
       "      <td>395</td>\n",
       "      <td>733</td>\n",
       "    </tr>\n",
       "    <tr>\n",
       "      <th>top</th>\n",
       "      <td>FIREFIGHTER</td>\n",
       "      <td>JOHN J. FINLEY</td>\n",
       "      <td>LADDER 7</td>\n",
       "      <td>September 11, 2001</td>\n",
       "    </tr>\n",
       "    <tr>\n",
       "      <th>freq</th>\n",
       "      <td>820</td>\n",
       "      <td>2</td>\n",
       "      <td>14</td>\n",
       "      <td>343</td>\n",
       "    </tr>\n",
       "  </tbody>\n",
       "</table>\n",
       "</div>"
      ],
      "text/plain": [
       "               Rank            Name      Unit                Date\n",
       "count          1169            1169      1169                1169\n",
       "unique           26            1165       395                 733\n",
       "top     FIREFIGHTER  JOHN J. FINLEY  LADDER 7  September 11, 2001\n",
       "freq            820               2        14                 343"
      ]
     },
     "execution_count": 5,
     "metadata": {},
     "output_type": "execute_result"
    }
   ],
   "source": [
    "# -*- coding: utf-8 -*-\n",
    "import pylab as pl\n",
    "import pandas as pd\n",
    "%pylab inline\n",
    "dataset.describe()"
   ]
  },
  {
   "cell_type": "code",
   "execution_count": 42,
   "metadata": {
    "collapsed": false
   },
   "outputs": [
    {
     "data": {
      "text/plain": [
       "0       1924-04-10\n",
       "1       1934-04-10\n",
       "2       1948-04-10\n",
       "3       1952-04-10\n",
       "4       1969-04-10\n",
       "5       1896-04-01\n",
       "6       1917-04-12\n",
       "7       1917-04-12\n",
       "8       1901-04-14\n",
       "9       1927-04-14\n",
       "10      1965-04-14\n",
       "11      1977-04-15\n",
       "12      1868-04-16\n",
       "13      1916-04-16\n",
       "14      2012-04-16\n",
       "15      1939-04-17\n",
       "16      1957-04-17\n",
       "17      1968-04-17\n",
       "18      1924-04-18\n",
       "19      2002-04-18\n",
       "20      1930-04-19\n",
       "21      1945-04-19\n",
       "22      1945-04-20\n",
       "23      1970-04-20\n",
       "24      1951-04-22\n",
       "25      1910-04-23\n",
       "26      2005-04-23\n",
       "27      1905-04-25\n",
       "28      1912-04-25\n",
       "29      1935-04-26\n",
       "           ...    \n",
       "1139    1921-09-18\n",
       "1140    1969-09-19\n",
       "1141    1963-09-02\n",
       "1142    1945-09-22\n",
       "1143    1953-09-22\n",
       "1144    1960-09-22\n",
       "1145    1911-09-24\n",
       "1146    1922-09-24\n",
       "1147    1937-09-24\n",
       "1148    1951-09-24\n",
       "1149    1997-09-24\n",
       "1150    1907-09-25\n",
       "1151    1927-09-26\n",
       "1152    1959-09-26\n",
       "1153    2003-09-27\n",
       "1154    1907-09-28\n",
       "1155    1925-09-29\n",
       "1156    1896-09-30\n",
       "1157    1938-09-03\n",
       "1158    1956-09-03\n",
       "1159    1935-09-05\n",
       "1160    1944-09-05\n",
       "1161    1973-09-06\n",
       "1162    1915-09-07\n",
       "1163    1931-09-07\n",
       "1164    1872-09-08\n",
       "1165    1953-09-08\n",
       "1166    1968-09-08\n",
       "1167    1941-09-09\n",
       "1168    1969-09-09\n",
       "Name: Date, dtype: object"
      ]
     },
     "execution_count": 42,
     "metadata": {},
     "output_type": "execute_result"
    }
   ],
   "source": [
    "dataset = pd.read_csv(\"/Users/fbianco/Downloads/FDNY_Line_Of_Duty_Deaths.csv\")\n",
    "#dataset.Date = pd.to_datetime(dataset.Date, format = \"%Y\")\n",
    "\n",
    "dataset.Date = pd.to_datetime(dataset.Date).apply( lambda x: x.date() )\n",
    "dataset.Date"
   ]
  },
  {
   "cell_type": "code",
   "execution_count": 83,
   "metadata": {
    "collapsed": false
   },
   "outputs": [
    {
     "data": {
      "text/plain": [
       "<matplotlib.axes._subplots.AxesSubplot at 0x10dea9290>"
      ]
     },
     "execution_count": 83,
     "metadata": {},
     "output_type": "execute_result"
    },
    {
     "data": {
      "image/png": "[encoded data removed]",
      "text/plain": [
       "<matplotlib.figure.Figure at 0x10e868390>"
      ]
     },
     "metadata": {},
     "output_type": "display_data"
    }
   ],
   "source": [
    "FSNYts = dataset[['Date', 'Name']].groupby('Date').count()#.agg('count')\n",
    "FSNYts.plot()\n",
    "#FSNYts.plot('Date', 'Rank')\n",
    "#FDNSts.plot()\n",
    "#FDNYts = pd.groupby(dataset, 'Date').count().Date\n"
   ]
  },
  {
   "cell_type": "code",
   "execution_count": 138,
   "metadata": {
    "collapsed": false
   },
   "outputs": [
    {
     "name": "stdout",
     "output_type": "stream",
     "text": [
      "1.59481582538 12.6439611874\n",
      "[39.526699387563959, -36.337067736813616]\n"
     ]
    },
    {
     "data": {
      "image/png": "[encoded data removed]",
      "text/plain": [
       "<matplotlib.figure.Figure at 0x10f7a5650>"
      ]
     },
     "metadata": {},
     "output_type": "display_data"
    }
   ],
   "source": [
    "FSNYts.plot(logy=True)\n",
    "print FSNYts['Name'].mean(), FSNYts['Name'].std()\n",
    "thresholds = [FSNYts['Name'].mean()+3*FSNYts['Name'].std(), FSNYts['Name'].mean()-3*FSNYts['Name'].std()]\n",
    "print thresholds"
   ]
  },
  {
   "cell_type": "code",
   "execution_count": 103,
   "metadata": {
    "collapsed": false
   },
   "outputs": [
    {
     "data": {
      "text/plain": [
       "Index([u'Name'], dtype='object')"
      ]
     },
     "execution_count": 103,
     "metadata": {},
     "output_type": "execute_result"
    }
   ],
   "source": [
    "FSNYts.columns\n"
   ]
  },
  {
   "cell_type": "code",
   "execution_count": 97,
   "metadata": {
    "collapsed": false
   },
   "outputs": [
    {
     "data": {
      "text/plain": [
       "[<matplotlib.lines.Line2D at 0x10f419d10>]"
      ]
     },
     "execution_count": 97,
     "metadata": {},
     "output_type": "execute_result"
    },
    {
     "data": {
      "image/png": "[encoded data removed]",
      "text/plain": [
       "<matplotlib.figure.Figure at 0x10f2818d0>"
      ]
     },
     "metadata": {},
     "output_type": "display_data"
    }
   ],
   "source": [
    "ax = FSNYts.plot(logy=True)\n",
    "ax.plot([min(FSNYts.index), max(FSNYts.index)], \n",
    "        [FSNYts.mean() + FSNYts.std()*3, FSNYts.mean() + FSNYts.std()*3])\n",
    "ax.plot([min(FSNYts.index), max(FSNYts.index)], \n",
    "        [FSNYts.mean() - FSNYts.std()*3, FSNYts.mean() - FSNYts.std()*3])"
   ]
  },
  {
   "cell_type": "code",
   "execution_count": 139,
   "metadata": {
    "collapsed": false
   },
   "outputs": [
    {
     "data": {
      "text/html": [
       "<div style=\"max-height:1000px;max-width:1500px;overflow:auto;\">\n",
       "<table border=\"1\" class=\"dataframe\">\n",
       "  <thead>\n",
       "    <tr style=\"text-align: right;\">\n",
       "      <th></th>\n",
       "      <th>Name</th>\n",
       "    </tr>\n",
       "    <tr>\n",
       "      <th>Date</th>\n",
       "      <th></th>\n",
       "    </tr>\n",
       "  </thead>\n",
       "  <tbody>\n",
       "    <tr>\n",
       "      <th>2001-09-11</th>\n",
       "      <td>343</td>\n",
       "    </tr>\n",
       "  </tbody>\n",
       "</table>\n",
       "</div>"
      ],
      "text/plain": [
       "            Name\n",
       "Date            \n",
       "2001-09-11   343"
      ]
     },
     "execution_count": 139,
     "metadata": {},
     "output_type": "execute_result"
    }
   ],
   "source": [
    "FSNYts.loc[(FSNYts.Name>thresholds[0])]"
   ]
  },
  {
   "cell_type": "code",
   "execution_count": null,
   "metadata": {
    "collapsed": true
   },
   "outputs": [],
   "source": []
  }
 ],
 "metadata": {
  "kernelspec": {
   "display_name": "Python 2",
   "language": "python",
   "name": "python2"
  },
  "language_info": {
   "codemirror_mode": {
    "name": "ipython",
    "version": 2
   },
   "file_extension": ".py",
   "mimetype": "text/x-python",
   "name": "python",
   "nbconvert_exporter": "python",
   "pygments_lexer": "ipython2",
   "version": "2.7.3"
  }
 },
 "nbformat": 4,
 "nbformat_minor": 0
}
